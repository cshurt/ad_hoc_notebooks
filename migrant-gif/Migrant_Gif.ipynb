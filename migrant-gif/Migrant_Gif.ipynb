{
 "cells": [
  {
   "cell_type": "code",
   "execution_count": 72,
   "metadata": {},
   "outputs": [
    {
     "name": "stdout",
     "output_type": "stream",
     "text": [
      "env: PROJ_LIB=/opt/conda/share/proj\n"
     ]
    }
   ],
   "source": [
    "%env PROJ_LIB=/opt/conda/share/proj"
   ]
  },
  {
   "cell_type": "code",
   "execution_count": 12,
   "metadata": {},
   "outputs": [],
   "source": [
    "#%env"
   ]
  },
  {
   "cell_type": "code",
   "execution_count": 13,
   "metadata": {},
   "outputs": [],
   "source": [
    "#os.environ['PROJ_LIB'] = '/opt/anaconda3/envs/test/share/proj'"
   ]
  },
  {
   "cell_type": "code",
   "execution_count": 74,
   "metadata": {},
   "outputs": [],
   "source": [
    "from mpl_toolkits.basemap import Basemap\n",
    "import pandas as pd\n",
    "import matplotlib.pyplot as plt\n",
    "import math\n",
    "import matplotlib.animation as animation\n",
    "# Missing Migrant file\n",
    "loc = 'MissingMigrants-Global-2019-06-30T06-47-14.csv'\n",
    "# Required fields, drop row if they don't exist\n",
    "drop=['Location Coordinates']\n",
    "# Filter regions\n",
    "regions = ['US-Mexico Border','Central America','South America','North America']\n",
    "%matplotlib notebook"
   ]
  },
  {
   "cell_type": "code",
   "execution_count": 15,
   "metadata": {},
   "outputs": [],
   "source": [
    "# Some settings for the plot\n",
    "width = 2500000\n",
    "height = 1600000\n",
    "centerlat = 30\n",
    "centerlon = -105"
   ]
  },
  {
   "cell_type": "code",
   "execution_count": null,
   "metadata": {},
   "outputs": [],
   "source": []
  },
  {
   "cell_type": "code",
   "execution_count": 16,
   "metadata": {},
   "outputs": [],
   "source": [
    "# Read in the data, dropping NaN from the Location Coordinates\n",
    "mig = pd.read_csv(loc,parse_dates=['Reported Date']).dropna(subset=drop)"
   ]
  },
  {
   "cell_type": "code",
   "execution_count": 17,
   "metadata": {},
   "outputs": [],
   "source": [
    "# Split out the latitude and longitude\n",
    "mig['Latitude'] = mig['Location Coordinates'].str[0:14]\n",
    "mig['Longitude'] = mig['Location Coordinates'].str[17:]\n",
    "# Filter to the desired regions\n",
    "mig = mig[mig['Region of Incident'].isin(regions)]\n",
    "# Convert Total Dead and Missing to int\n",
    "mig['Total Dead and Missing'] = mig['Total Dead and Missing'].astype('int64')\n",
    "mig['Number of Children'] = mig['Number of Children'].fillna(0).astype('int64')"
   ]
  },
  {
   "cell_type": "code",
   "execution_count": null,
   "metadata": {},
   "outputs": [],
   "source": []
  },
  {
   "cell_type": "code",
   "execution_count": 18,
   "metadata": {},
   "outputs": [],
   "source": [
    "#mig['Region of Incident'].value_counts()"
   ]
  },
  {
   "cell_type": "code",
   "execution_count": 19,
   "metadata": {},
   "outputs": [
    {
     "data": {
      "text/plain": [
       "Timestamp('2014-01-06 00:00:00')"
      ]
     },
     "execution_count": 19,
     "metadata": {},
     "output_type": "execute_result"
    }
   ],
   "source": [
    "mig['Reported Date'].min()"
   ]
  },
  {
   "cell_type": "code",
   "execution_count": 20,
   "metadata": {},
   "outputs": [
    {
     "data": {
      "text/plain": [
       "Web ID                                          int64\n",
       "Region of Incident                             object\n",
       "Reported Date                          datetime64[ns]\n",
       "Reported Year                                   int64\n",
       "Reported Month                                 object\n",
       "Number Dead                                   float64\n",
       "Minimum Estimated Number of Missing           float64\n",
       "Total Dead and Missing                          int64\n",
       "Number of Survivors                           float64\n",
       "Number of Females                             float64\n",
       "Number of Males                               float64\n",
       "Number of Children                              int64\n",
       "Cause of Death                                 object\n",
       "Location Description                           object\n",
       "Information Source                             object\n",
       "Location Coordinates                           object\n",
       "Migration Route                                object\n",
       "URL                                            object\n",
       "UNSD Geographical Grouping                     object\n",
       "Source Quality                                  int64\n",
       "Latitude                                       object\n",
       "Longitude                                      object\n",
       "dtype: object"
      ]
     },
     "execution_count": 20,
     "metadata": {},
     "output_type": "execute_result"
    }
   ],
   "source": [
    "mig.dtypes"
   ]
  },
  {
   "cell_type": "code",
   "execution_count": 21,
   "metadata": {},
   "outputs": [],
   "source": [
    "### TODO Explode out dataframe\n",
    "# Each row should be one death\n",
    "# Each needs lat/long, Child/Adult, and Date\n",
    "# Then add a jitter to the lat/long"
   ]
  },
  {
   "cell_type": "code",
   "execution_count": 22,
   "metadata": {},
   "outputs": [
    {
     "name": "stderr",
     "output_type": "stream",
     "text": [
      "/opt/conda/lib/python3.7/site-packages/ipykernel_launcher.py:3: SettingWithCopyWarning: \n",
      "A value is trying to be set on a copy of a slice from a DataFrame.\n",
      "Try using .loc[row_indexer,col_indexer] = value instead\n",
      "\n",
      "See the caveats in the documentation: http://pandas.pydata.org/pandas-docs/stable/indexing.html#indexing-view-versus-copy\n",
      "  This is separate from the ipykernel package so we can avoid doing imports until\n"
     ]
    }
   ],
   "source": [
    "# Get a count of children and non-children\n",
    "long = mig[['Total Dead and Missing','Number of Children','Reported Date','Latitude','Longitude']]\n",
    "long['Non-Child Dead and Missing'] = long['Total Dead and Missing'] - long['Number of Children']"
   ]
  },
  {
   "cell_type": "code",
   "execution_count": 23,
   "metadata": {},
   "outputs": [],
   "source": [
    "# Use list comprehension to get a single row for every adult\n",
    "adult = pd.DataFrame([long.loc[idx] \n",
    "                       for idx in long.index \n",
    "                       for _ in range(long.loc[idx]['Non-Child Dead and Missing'])]).reset_index(drop=True)\n",
    "# Same for every child\n",
    "child = pd.DataFrame([long.loc[idx] \n",
    "                       for idx in long.index \n",
    "                       for _ in range(long.loc[idx]['Number of Children'])]).reset_index(drop=True)"
   ]
  },
  {
   "cell_type": "code",
   "execution_count": 24,
   "metadata": {},
   "outputs": [
    {
     "data": {
      "text/plain": [
       "110"
      ]
     },
     "execution_count": 24,
     "metadata": {},
     "output_type": "execute_result"
    }
   ],
   "source": [
    "long['Number of Children'].sum()"
   ]
  },
  {
   "cell_type": "code",
   "execution_count": 25,
   "metadata": {},
   "outputs": [],
   "source": [
    "#adult"
   ]
  },
  {
   "cell_type": "code",
   "execution_count": 26,
   "metadata": {},
   "outputs": [],
   "source": [
    "# Filter out the edges of map\n",
    "#top = centerlat + ((height/2)/111111)\n",
    "#bottom = centerlat - ((height/2)/111111)\n",
    "#left = centerlon + ((width/2)/111111*math.cos(centerlat))\n",
    "#right = centerlon - ((width/2)/111111*math.cos(centerlat))"
   ]
  },
  {
   "cell_type": "code",
   "execution_count": 27,
   "metadata": {},
   "outputs": [],
   "source": [
    "#mig[mig['Total Dead and Missing'] > '5'][['Web ID','Total Dead and Missing','Number of Females','Number of Males', 'Number of Children']]"
   ]
  },
  {
   "cell_type": "code",
   "execution_count": 28,
   "metadata": {},
   "outputs": [],
   "source": [
    "#mig[mig['Web ID'] == 39383]"
   ]
  },
  {
   "cell_type": "code",
   "execution_count": 29,
   "metadata": {},
   "outputs": [],
   "source": [
    "#mig.groupby('Reported Date')['Number Dead'].sum().sort_values()"
   ]
  },
  {
   "cell_type": "code",
   "execution_count": 30,
   "metadata": {},
   "outputs": [
    {
     "data": {
      "text/plain": [
       "Index(['Web ID', 'Region of Incident', 'Reported Date', 'Reported Year',\n",
       "       'Reported Month', 'Number Dead', 'Minimum Estimated Number of Missing',\n",
       "       'Total Dead and Missing', 'Number of Survivors', 'Number of Females',\n",
       "       'Number of Males', 'Number of Children', 'Cause of Death',\n",
       "       'Location Description', 'Information Source', 'Location Coordinates',\n",
       "       'Migration Route', 'URL', 'UNSD Geographical Grouping',\n",
       "       'Source Quality', 'Latitude', 'Longitude'],\n",
       "      dtype='object')"
      ]
     },
     "execution_count": 30,
     "metadata": {},
     "output_type": "execute_result"
    }
   ],
   "source": [
    "mig.columns"
   ]
  },
  {
   "cell_type": "code",
   "execution_count": 31,
   "metadata": {},
   "outputs": [
    {
     "data": {
      "text/plain": [
       "'-99.696202800000'"
      ]
     },
     "execution_count": 31,
     "metadata": {},
     "output_type": "execute_result"
    }
   ],
   "source": [
    "mig['Location Coordinates'][1][17:]"
   ]
  },
  {
   "cell_type": "code",
   "execution_count": 32,
   "metadata": {},
   "outputs": [
    {
     "data": {
      "text/plain": [
       "110"
      ]
     },
     "execution_count": 32,
     "metadata": {},
     "output_type": "execute_result"
    }
   ],
   "source": [
    "mig['Number of Children'].sum()"
   ]
  },
  {
   "cell_type": "code",
   "execution_count": 33,
   "metadata": {},
   "outputs": [],
   "source": [
    "# Calculate middle lat from center to top edge\n",
    "conf1 = centerlat + ((height/4)/111111)\n",
    "# Calculate middle lat from center to bottom edge\n",
    "conf2 = centerlat - ((height/4)/111111)"
   ]
  },
  {
   "cell_type": "code",
   "execution_count": 36,
   "metadata": {},
   "outputs": [],
   "source": [
    "# TODO\n",
    "adult.head()\n",
    "lons = adult[adult['Reported Date'] < '2019-06-26']['Longitude']\n",
    "#lats = "
   ]
  },
  {
   "cell_type": "code",
   "execution_count": 48,
   "metadata": {},
   "outputs": [
    {
     "data": {
      "text/plain": [
       "0    2019-06-24\n",
       "1    2019-06-23\n",
       "2    2019-06-23\n",
       "3    2019-06-23\n",
       "4    2019-06-14\n",
       "5    2019-06-12\n",
       "6    2019-05-21\n",
       "7    2019-05-14\n",
       "8    2019-05-14\n",
       "9    2019-05-13\n",
       "10   2019-05-05\n",
       "11   2019-05-05\n",
       "12   2019-05-01\n",
       "13   2019-05-01\n",
       "14   2019-05-01\n",
       "15   2019-04-30\n",
       "16   2019-04-07\n",
       "17   2019-03-24\n",
       "18   2019-03-07\n",
       "19   2019-03-07\n",
       "20   2019-03-07\n",
       "21   2019-03-07\n",
       "22   2019-03-07\n",
       "23   2019-03-05\n",
       "24   2019-02-24\n",
       "25   2019-01-28\n",
       "26   2019-01-28\n",
       "27   2019-01-28\n",
       "28   2019-01-28\n",
       "29   2019-01-28\n",
       "30   2019-01-28\n",
       "31   2019-01-28\n",
       "32   2019-01-28\n",
       "33   2019-01-28\n",
       "34   2019-01-28\n",
       "35   2019-01-24\n",
       "Name: Reported Date, dtype: datetime64[ns]"
      ]
     },
     "execution_count": 48,
     "metadata": {},
     "output_type": "execute_result"
    }
   ],
   "source": [
    "child[child['Reported Date'] > '2019-01-01']['Reported Date']"
   ]
  },
  {
   "cell_type": "code",
   "execution_count": 59,
   "metadata": {},
   "outputs": [
    {
     "data": {
      "text/plain": [
       "0      -97.497454400000\n",
       "1      -98.328768700000\n",
       "2      -98.328768700000\n",
       "3      -98.328768700000\n",
       "4      -94.135662914059\n",
       "5     -106.337425829110\n",
       "6     -111.324478000000\n",
       "7      -98.118324500000\n",
       "8     -106.485021700000\n",
       "9      -92.821729096217\n",
       "10     -92.259368268791\n",
       "11     -92.259368268791\n",
       "12    -100.939984373880\n",
       "13    -100.939984373880\n",
       "14    -100.939984373880\n",
       "15     -97.386347400000\n",
       "16     -99.662936105483\n",
       "17     -99.478838604955\n",
       "18     -92.916367624797\n",
       "19     -92.916367624797\n",
       "20     -92.916367624797\n",
       "21     -92.916367624797\n",
       "22     -92.916367624797\n",
       "23     -48.480863500000\n",
       "24     -48.480863500000\n",
       "25      77.330689179762\n",
       "26      77.330689179762\n",
       "27      77.330689179762\n",
       "28      77.330689179762\n",
       "29      77.330689179762\n",
       "30      77.330689179762\n",
       "31      77.330689179762\n",
       "32      77.330689179762\n",
       "33      77.330689179762\n",
       "34      77.330689179762\n",
       "35    -106.426767800000\n",
       "36    -105.933164337420\n",
       "37    -100.511538546900\n",
       "38    -117.014062400000\n",
       "39    -117.014062400000\n",
       "40    -106.499407000000\n",
       "41    -105.477996000000\n",
       "42    -117.009588600000\n",
       "43    -116.080225617040\n",
       "44      73.361254635582\n",
       "45     -92.558634566602\n",
       "46     -92.558634566602\n",
       "47     -92.558634566602\n",
       "48    -102.172678989800\n",
       "49      77.664037300000\n",
       "50      72.451714319238\n",
       "51      77.419983786369\n",
       "52     -79.884198400000\n",
       "53     -79.884198400000\n",
       "54    -104.129112990230\n",
       "55    -110.938029750290\n",
       "Name: Longitude, dtype: object"
      ]
     },
     "execution_count": 59,
     "metadata": {},
     "output_type": "execute_result"
    }
   ],
   "source": [
    "lons"
   ]
  },
  {
   "cell_type": "code",
   "execution_count": 76,
   "metadata": {},
   "outputs": [],
   "source": [
    "# Static map for development\n",
    "\n",
    "# setup Lambert Conformal basemap.\n",
    "m = Basemap(resolution='l',\n",
    "            # Lamber Conformal projection\n",
    "            projection='lcc',\n",
    "            width=width,\n",
    "            height=height,\n",
    "            lat_1=conf1,\n",
    "            lat_2=conf2,\n",
    "            lat_0=centerlat,\n",
    "            lon_0=centerlon)\n",
    "# I think I'll leave the country lines out, to emphasize the arbitrary nature of boundaries.\n",
    "#m.drawcountries(linewidth=0.5)\n",
    "# Blue marble is the prettiest map, in contrast to the ugliness of the data\n",
    "m.bluemarble()\n",
    "# Pull out the latitude and longitude for the proper period\n",
    "lons = child[child['Reported Date'] > '2018-01-01']['Longitude'].values\n",
    "lats = child[child['Reported Date'] > '2018-01-01']['Latitude'].values\n",
    "lons2 = adult[adult['Reported Date'] > '2018-01-01']['Longitude'].values\n",
    "lats2 = adult[adult['Reported Date'] > '2018-01-01']['Latitude'].values\n",
    "x,y=m(lons,lats)\n",
    "m.plot(x,y,'bo',markersize=6)\n",
    "x,y=m(lons2,lats2)\n",
    "m.plot(x,y,'ro',markersize=6)\n",
    "plt.show()"
   ]
  },
  {
   "cell_type": "code",
   "execution_count": null,
   "metadata": {},
   "outputs": [],
   "source": []
  }
 ],
 "metadata": {
  "kernelspec": {
   "display_name": "Python 3",
   "language": "python",
   "name": "python3"
  },
  "language_info": {
   "codemirror_mode": {
    "name": "ipython",
    "version": 3
   },
   "file_extension": ".py",
   "mimetype": "text/x-python",
   "name": "python",
   "nbconvert_exporter": "python",
   "pygments_lexer": "ipython3",
   "version": "3.7.3"
  }
 },
 "nbformat": 4,
 "nbformat_minor": 2
}
